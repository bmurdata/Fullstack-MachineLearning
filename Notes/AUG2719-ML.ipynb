{
 "cells": [
  {
   "cell_type": "markdown",
   "metadata": {},
   "source": [
    "<H1>August 27,2019 </H1>"
   ]
  },
  {
   "cell_type": "markdown",
   "metadata": {},
   "source": [
    "Youtube video-But what is a Nueral Network chapter 1\n",
    "https://www.youtube.com/watch?v=aircAruvnKk\n",
    "\n",
    "\n",
    "Network nuerons\n",
    "\n",
    "image of 784 pixels,experiment with hidden layers.\n",
    "\n",
    "784 pixels are input layer, input determines first hidden layer, then the next etc. until output of chosen number.\n",
    "\n",
    "each nueron in 2nd layer read the little parts.\n",
    "\n",
    "13,002 weights and biases.\n",
    "\n",
    "Learning- get computer to find valid setting to solve problem at hand.\n",
    "\n",
    "Imagine doing it by hand. Find out why works, pr doesnt. chapter 3 important for linear algebra\n",
    "\n",
    "nuerons- things that hold numbers, think of them as functions that take before layer and spit out between 0 and 1."
   ]
  },
  {
   "cell_type": "raw",
   "metadata": {},
   "source": [
    "Back to course Applications.\n",
    "\n",
    "Get network that fits XO and XNOR and NOT examples.\n",
    "value of -30 to X0, then x1 has +20, x2 +20\n",
    "AND Function implementation and motivation.\n",
    "\n",
    "h0=g(-30+20x1+20x2)\n",
    "x1 x2  Result<br>\n",
    "0   0   g(-30)=0<br>\n",
    "0   1   g(-10)=0<br>\n",
    "1   0   g(-10)=0<br>\n",
    "1   1   g(10)=1<br>\n",
    "\n",
    "Circuits can be made as NAND gates.\n",
    "\n",
    "Quiz truth table\n",
    "\n",
    "x1(+20)  x2(+20)  Result\n",
    "0          0       g(-10)=0<br>\n",
    "0          1       g(10)=1<br>\n",
    "1          0       g(10)=1<br>\n",
    "1          1       g(30)=1<br>\n",
    "OR Gate<br>\n",
    "\n",
    "Start with RELU and go from there. Just works well."
   ]
  },
  {
   "cell_type": "markdown",
   "metadata": {},
   "source": [
    "Further example 2\n",
    "\n",
    "NOT x1 x1 has -20, x0 has 10\n",
    "\n",
    "Each layer can compute more and more stuff. Handwritten data classification. Honestly Youtube Video did a better job."
   ]
  },
  {
   "cell_type": "code",
   "execution_count": null,
   "metadata": {},
   "outputs": [],
   "source": []
  }
 ],
 "metadata": {
  "kernelspec": {
   "display_name": "Python 3",
   "language": "python",
   "name": "python3"
  },
  "language_info": {
   "codemirror_mode": {
    "name": "ipython",
    "version": 3
   },
   "file_extension": ".py",
   "mimetype": "text/x-python",
   "name": "python",
   "nbconvert_exporter": "python",
   "pygments_lexer": "ipython3",
   "version": "3.7.4"
  }
 },
 "nbformat": 4,
 "nbformat_minor": 2
}

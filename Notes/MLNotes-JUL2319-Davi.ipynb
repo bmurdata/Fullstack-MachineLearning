{
 "cells": [
  {
   "cell_type": "markdown",
   "metadata": {},
   "source": [
    "July 23, 2019"
   ]
  },
  {
   "cell_type": "markdown",
   "metadata": {},
   "source": [
    "<h1>Summary</h1>"
   ]
  },
  {
   "cell_type": "markdown",
   "metadata": {},
   "source": [
    "   Charles Davi is a former financial lawyer who made a number of algorithms for genralized machine learning. \n",
    "   He has written numerous papers on them and maintains a [Reseach Gate page](https://www.researchgate.net/profile/Charles_Davi). <br>There, he posts updates to his project and his writings on the subject. They are free to use for academic purposes only.\n",
    "\n",
    "He went over one of his papers(A New Model of Aritifical Intelligence). It was written on an earlier algorithim, in which he first showed how it worked to break up a complex image, then how it predicted the probability of a turtle going left or right.\n",
    "\n",
    "The algorithims are supposed to be very fast, and effective(a 100% predication rate on homemade test data, and approximately 90% on other datasets including minist), even on inferior hardware(some 'crappy' $200 Lenovo laptops). He claims no  formal education in algorithims, and appears to use Information Theory to drive his research. The algorithims can apprently work on any type of data, being able to find structure in various types of data. "
   ]
  },
  {
   "cell_type": "markdown",
   "metadata": {},
   "source": [
    "Charles Davi-formaer lawyer turned machine learning superstar Notes as he talked.\n",
    "start\n",
    "Idea- how to find structure in image.<br>\n",
    "if looking for pixels, doesnt work.<br>\n",
    "Subdivide image into boxes, more manageable,\n",
    "but how big should they be?<br>\n",
    "If you zoom in, color patterns differ.<br>\n",
    "look at color distribution, for max difference,\n",
    "measure of difference of colors distribution.<br>\n",
    "Measure stanard deviation of boxes, for 10x10, test go more boxws or less, then test, see if deviation increases\n",
    "if so, right trackm otherwise, go other direction.<br>\n",
    "see section 2.2.<br>\n",
    "finds point at which it plateaus.<br>\n",
    "octave, matlab. <br>\n",
    "On data set- boxes.<br>\n",
    "entropy- how much info I need on average to encode a source. Measure of information\n",
    "how many bits per pixel needed to rep a color pallete.<br>\n",
    "more uneven distribution means there is structure. If uniform, cant compress much, \n",
    "entropy function of catergory structure.<br>\n",
    "entropy of the categories.<br>\n",
    "higher entropy more clustering.<br>\n",
    "goes through data set grabs all the vectors. <br>\n",
    "Group the data into categories, then test entropy between the categories.<br>\n",
    "categorize each box,(set of vector) data get entropy. <br>\n",
    "Steps<br>\n",
    "1)boxes, take the box as a vector.<br>\n",
    "2)categorieze into groups, find the entropy. Say 3 categories, each with 3, entropy is uniform log3.<br>\n",
    "3)image segmentation.<br>\n",
    "<br>\n",
    "predicition algo<br>\n",
    "information theory, can tel about data w/o knowing anything about it.<br>\n",
    "powerful algos, but can be distributed easily as well.<br>\n",
    "thousand paths, box it to a few compressed paths, then go from there, use paths to draw predictions. Use information theory to say what is representive.<br>\n",
    "predictions drawn from training data.<br>\n",
    "algos reject data rather than try to fit to function. If lots of rejections, know need to retrain.<br>\n",
    "how know you have good categories?<br>\n",
    "keep trying different levels of distrinction until you get high points of entropy, which indicates structure, stop there.<br><br>\n",
    "Komengrah complexity:<br>\n",
    "length of shortest program that does a thing.<br>\n",
    "say want to make mirror image, shortest program is complexity of left half because can mirror it.<br>\n",
    "can give algo an scrambled image that can rebuild it.<br>\n",
    "machine cannot do anything novel, only reproduce what it was given.<br>"
   ]
  },
  {
   "cell_type": "markdown",
   "metadata": {},
   "source": [
    "probability of generating symphynies near impossible, but humans do it.\n",
    "monkey neural link\n",
    "hyper efficent AI algorithms, need buisness case.\n",
    "much talk."
   ]
  }
 ],
 "metadata": {
  "kernelspec": {
   "display_name": "Python 3",
   "language": "python",
   "name": "python3"
  },
  "language_info": {
   "codemirror_mode": {
    "name": "ipython",
    "version": 3
   },
   "file_extension": ".py",
   "mimetype": "text/x-python",
   "name": "python",
   "nbconvert_exporter": "python",
   "pygments_lexer": "ipython3",
   "version": "3.7.4"
  }
 },
 "nbformat": 4,
 "nbformat_minor": 2
}

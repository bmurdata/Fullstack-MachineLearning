{
 "cells": [
  {
   "cell_type": "markdown",
   "metadata": {},
   "source": [
    "July 16,2019 Notes-\n",
    "Quick Notes and Review\n",
    "Classification-faces if happy, sad, fruit, if apple, orange, \n",
    "Gradient Descent-slope get to minimum, \n",
    "Linear Regression- Houses Prices vs sq ft.\n",
    "n- features\n",
    "m-testing set"
   ]
  },
  {
   "cell_type": "markdown",
   "metadata": {},
   "source": [
    "Gradient Descent-Normal Equation\n",
    "Derivation of Theta, massive equation. Minimize cost function. Much math, simple version ahead.\n",
    "Make a matix X of all your values minus what you want to predict, with an added column of 1s at the start.\n",
    "Then make a matrix y of values you want to predict.\n",
    "End of Review."
   ]
  },
  {
   "cell_type": "markdown",
   "metadata": {},
   "source": [
    "New Stuff\n",
    "Normal Equation Noninvertibility\n",
    "Theta=(Xtranspose * X)^-1 times Xtransposey\n",
    "What if Xtranspose * X is non invertible? Use \n",
    "Why this happen?\n",
    "- Redundant features( size in feet, and size in meters), features are related by linear equation\n",
    "- Too many features. \n",
    "Solution- delete features, or use regularization.\n",
    "Hopefully will be fairly rare. But if it comes up do above."
   ]
  },
  {
   "cell_type": "markdown",
   "metadata": {},
   "source": [
    "Explanation- Noninvertible matrix.\n",
    "https://stats.stackexchange.com/questions/152663/reasons-for-a-non-invertible-matrix"
   ]
  },
  {
   "cell_type": "markdown",
   "metadata": {},
   "source": [
    "Week 3\n",
    "Logistic Regression\n",
    "Classification\n",
    "variable y we want to predict.\n",
    "Example-Email-spam, not spam\n",
    "Transactions-fraud/not fraud\n",
    "Tumor-malginant/no\n",
    "For this example, try to apply linear regression with Threshold classifier\n",
    "- Threshold- anything above threshold is Yes, below is No. Say threshold is 0.5.\n",
    "Say add a data point far out there, line will move to fit to it, which changes threshold.\n",
    "Linear Regression can be influcnced by outliers too heavily.\n",
    "Classification Problem not good for Linear Regression. Works better for clear cut data. "
   ]
  },
  {
   "cell_type": "markdown",
   "metadata": {},
   "source": [
    "Classification pdf. Read it.\n",
    "Go through Hypothesis Representation, and the rest of Week 3."
   ]
  }
 ],
 "metadata": {
  "kernelspec": {
   "display_name": "Python 3",
   "language": "python",
   "name": "python3"
  },
  "language_info": {
   "codemirror_mode": {
    "name": "ipython",
    "version": 3
   },
   "file_extension": ".py",
   "mimetype": "text/x-python",
   "name": "python",
   "nbconvert_exporter": "python",
   "pygments_lexer": "ipython3",
   "version": "3.7.4"
  }
 },
 "nbformat": 4,
 "nbformat_minor": 2
}

{
 "cells": [
  {
   "cell_type": "markdown",
   "metadata": {},
   "source": [
    "July 23, 2019-Notes before the Meetup\n",
    "Logistic Regression\n",
    "Hypothesis Representation\n",
    "Function used to represent hypothesis when a classifier problem\n",
    "Want a hypothesis that outputs values between 0 and 1, so has predicitions between the two\n",
    "Gz-our hypothesis function\n",
    "interpretation- say feed feature x into hypothesis function htheta(x)\n",
    "Htheta(x)=.7- say this is a 70% chance of being a tumor\n",
    "y= 0 or 1, (beign or tumor) More formal way\n",
    "h_\\theta(x)\n",
    "P(y=1|x;theta)=0.7. Probability that y=1(tumor) for x is .7\n",
    "P(y=0)+P(y=1)=1"
   ]
  },
  {
   "cell_type": "markdown",
   "metadata": {},
   "source": [
    "Decision Boundary\n",
    "To get 0 or 1 as our predicition we assume that when logistic function is >=.5 predict as 1, if <.5 y=0.\n",
    "can draw prediction line given theta Zero + other thetas. Example of Thetha Zero=-3, makes a decision boundary\n",
    "Can also be more complex. Say theta 0+thetha 1, etc.\n",
    "Get function which when thetas are placed in will reduce down to a hypothesis function. Then can say whenever something is greather than -theta 0."
   ]
  },
  {
   "cell_type": "markdown",
   "metadata": {},
   "source": [
    "Cost function \n",
    "cant use the same one that we have been using for linear regresion, output will be wavy, non convex\n",
    "We want a cost function that is convex and be guarenteed to find a global min.\n",
    "Cost(htheta(x),y)=-log(htheta(x)) if y=1\n",
    "or -log(1-htheta(x)) if y=0\n",
    "if y=1 cost function is 0 if hypothesis also ouputs 1, if hypothesis outputs 1 approaces infinity. Same for y=0."
   ]
  },
  {
   "cell_type": "markdown",
   "metadata": {},
   "source": [
    "Simplified Cost andGradient Descent\n",
    "Much of time is spent explaining above about cost function.\n",
    "Gradient descent- same as for linear regression, but htheta has changed definition to amke sure it is converging correctly,\n",
    "use same method as for linear regression.\n",
    "See lecture reading for understanding.\n",
    "\n",
    "Multiclass Classification- One vs all\n",
    "when have multiple classes, solve for each class as if it is independent of the rest. To make a prediction on a class,\n",
    "pick the class that maximizeies htheta(x).\n",
    "\n",
    "generalizied machine learning studied on mnist"
   ]
  }
 ],
 "metadata": {
  "kernelspec": {
   "display_name": "Python 3",
   "language": "python",
   "name": "python3"
  },
  "language_info": {
   "codemirror_mode": {
    "name": "ipython",
    "version": 3
   },
   "file_extension": ".py",
   "mimetype": "text/x-python",
   "name": "python",
   "nbconvert_exporter": "python",
   "pygments_lexer": "ipython3",
   "version": "3.7.4"
  }
 },
 "nbformat": 4,
 "nbformat_minor": 2
}
